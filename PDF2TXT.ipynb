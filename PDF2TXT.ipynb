{
 "cells": [
  {
   "cell_type": "markdown",
   "metadata": {},
   "source": [
    "***Es necesario instalar tesseract en Windows***  \n",
    "https://github.com/tesseract-ocr/tesseract  \n",
    "https://tesseract-ocr.github.io/tessdoc/#binaries  \n",
    "https://github.com/UB-Mannheim/tesseract/wiki  \n",
    "https://github.com/tesseract-ocr/tesseract/releases/download/5.5.0/tesseract-ocr-w64-setup-5.5.0.20241111.exe  \n"
   ]
  },
  {
   "cell_type": "markdown",
   "metadata": {},
   "source": [
    "***Es necesario instalar varias librerías de Python***  \n",
    "pytesseract pdf2image Pillow  "
   ]
  },
  {
   "cell_type": "code",
   "execution_count": 1,
   "metadata": {},
   "outputs": [],
   "source": [
    "# Es necesario instalar varias librerías de Python\n",
    "# Desde cmd\n",
    "# pip install pytesseract pdf2image Pillow\n",
    "# [notice] A new release of pip is available: 24.0 -> 25.0.1\n",
    "# [notice] To update, run: python.exe -m pip install --upgrade pip"
   ]
  },
  {
   "cell_type": "markdown",
   "metadata": {},
   "source": [
    "***Por manu Herrán***  \n",
    "https://github.com/manuherran/Python/  \n",
    "https://manuherran.com/  "
   ]
  },
  {
   "cell_type": "code",
   "execution_count": null,
   "metadata": {},
   "outputs": [],
   "source": [
    "import fitz  # PyMuPDF\n",
    "import os\n",
    "from PIL import Image\n",
    "import pytesseract\n",
    "import random\n",
    "import string\n",
    "from pdf2image import convert_from_path"
   ]
  },
  {
   "cell_type": "code",
   "execution_count": null,
   "metadata": {},
   "outputs": [],
   "source": [
    "pytesseract.pytesseract.tesseract_cmd = r'C:\\Program Files\\Tesseract-OCR\\tesseract.exe'  # Para Windows"
   ]
  },
  {
   "cell_type": "code",
   "execution_count": null,
   "metadata": {},
   "outputs": [],
   "source": [
    "# Es necesario instalar tesseract en Windows\n",
    "# https://github.com/tesseract-ocr/tesseract\n",
    "# https://tesseract-ocr.github.io/tessdoc/#binaries\n",
    "# https://github.com/UB-Mannheim/tesseract/wiki\n",
    "# https://github.com/tesseract-ocr/tesseract/releases/download/5.5.0/tesseract-ocr-w64-setup-5.5.0.20241111.exe"
   ]
  },
  {
   "cell_type": "code",
   "execution_count": null,
   "metadata": {},
   "outputs": [],
   "source": [
    "# Por manu Herrán  \n",
    "# https://github.com/manuherran/Python/  \n",
    "# https://manuherran.com/  "
   ]
  },
  {
   "cell_type": "code",
   "execution_count": null,
   "metadata": {},
   "outputs": [],
   "source": [
    "# Función principal\n",
    "def fProcesarCarpeta(ruta_carpeta):\n",
    "    # Recorremos todos los archivos y subdirectorios de la ruta proporcionada\n",
    "    for raiz, dirs, archivos in os.walk(ruta_carpeta):\n",
    "        for archivo in archivos:\n",
    "            # Comprobamos si el archivo tiene extensión .pdf\n",
    "            if archivo.lower().endswith('.pdf'):\n",
    "                # Generamos la ruta completa del archivo PDF\n",
    "                pdf_path = os.path.join(raiz, archivo)\n",
    "                \n",
    "                # Generamos el nombre del archivo de salida (txt) cambiando la extensión\n",
    "                txt_path = os.path.splitext(pdf_path)[0] + '.txt'\n",
    "                \n",
    "                # Llamamos a la función fProcesarFichero pasándole los dos parámetros\n",
    "                fProcesarFichero(pdf_path, txt_path)\n",
    "                \n",
    "                print(f\"Procesado {pdf_path} -> {txt_path}\")\n",
    "\n"
   ]
  },
  {
   "cell_type": "code",
   "execution_count": null,
   "metadata": {},
   "outputs": [],
   "source": [
    "# Función para procesar cada PDF\n",
    "def fProcesarFichero(ficPdfEntrada, ficTxtSalida):\n",
    "    # Generar una cadena aleatoria de 10 letras\n",
    "    cadena_aleatoria = ''.join(random.choices(string.ascii_uppercase, k=10))\n",
    "    #print(cadena_aleatoria)\n",
    "\n",
    "    # Crear carpeta temporal para guardar las imágenes\n",
    "    output_dir = \"_tmp_imagenes_pdf_\" + cadena_aleatoria\n",
    "    if not os.path.exists(output_dir):\n",
    "        os.makedirs(output_dir)\n",
    "\n",
    "    try:\n",
    "        # Abrir el archivo PDF\n",
    "        doc = fitz.open(ficPdfEntrada)\n",
    "\n",
    "        # Variable para almacenar el texto extraído\n",
    "        texto_completo = \"\"\n",
    "\n",
    "        # Escala para aumentar la calidad de la imagen (2.0 es un aumento del 200%)\n",
    "        #scale_factor = 2.0  # Puedes aumentar más si necesitas una calidad superior\n",
    "        scale_factor = 3.0  # El 3 ha resultado mejor que el 4\n",
    "        #scale_factor = 4.0\n",
    "\n",
    "        # Iterar sobre cada página y convertirla en imagen\n",
    "        for page_num in range(doc.page_count):\n",
    "            page = doc.load_page(page_num)  # Cargar página\n",
    "\n",
    "            # Crear una matriz de transformación para aumentar la resolución\n",
    "            matrix = fitz.Matrix(scale_factor, scale_factor)  # Escala 2x en ambos ejes\n",
    "    \n",
    "            # Convertir la página a un pixmap con la matriz (es decir, con mayor calidad)\n",
    "            pix = page.get_pixmap(matrix=matrix)\n",
    "\n",
    "            #pix = page.get_pixmap()  # Convertir página a imagen\n",
    "            img_path = os.path.join(output_dir, f\"_tmp_pagina_{page_num + 1}.png\")  # Definir el nombre de la imagen\n",
    "            pix.save(img_path)  # Guardar la imagen\n",
    "\n",
    "            print(f\"Página {page_num + 1} guardada como {img_path}\")\n",
    "\n",
    "            # Usar pytesseract para extraer texto de la imagen\n",
    "            img = Image.open(img_path)\n",
    "            texto = pytesseract.image_to_string(img)\n",
    "            texto_completo += texto  # Concatenar el texto extraído\n",
    "\n",
    "        # Guardar todo el texto extraído en un archivo de texto\n",
    "        with open(ficTxtSalida, 'w', encoding='utf-8') as f:\n",
    "            f.write(texto_completo)\n",
    "\n",
    "        print(f\"Texto completo guardado en: {ficTxtSalida}\")\n",
    "\n",
    "    except Exception as e:\n",
    "        print(f\"Error al procesar el fichero: {e}\")\n",
    "\n",
    "    finally:\n",
    "        if (1 == 1):\n",
    "            # Eliminar las imágenes generadas\n",
    "            for page_num in range(doc.page_count):\n",
    "                img_path = os.path.join(output_dir, f\"_tmp_pagina_{page_num + 1}.png\")\n",
    "                if os.path.exists(img_path):\n",
    "                    os.remove(img_path)\n",
    "                    print(f\"Imagen {img_path} eliminada\")\n",
    "\n",
    "            # Eliminar la carpeta temporal\n",
    "            if os.path.exists(output_dir):\n",
    "                os.rmdir(output_dir)\n",
    "                print(f\"Carpeta temporal {output_dir} eliminada\")\n",
    "\n"
   ]
  },
  {
   "cell_type": "code",
   "execution_count": null,
   "metadata": {},
   "outputs": [],
   "source": [
    "# Ejemplo de uso de la función fProcesarFichero\n",
    "# ficPdfEntrada = \"prueba.pdf\"  # Ruta al archivo PDF\n",
    "# ficTxtSalida = \"prueba.txt\"   # Ruta donde se guardará el archivo de texto\n",
    "# fProcesarFichero(ficPdfEntrada, ficTxtSalida)"
   ]
  },
  {
   "cell_type": "code",
   "execution_count": null,
   "metadata": {},
   "outputs": [],
   "source": [
    "# Ejemplo de uso de la función fProcesarCarpeta\n",
    "if (1 == 2):\n",
    "    # Ya procesados\n",
    "    fProcesarCarpeta(\"C:\\Mi carpeta 1\")\n",
    "    fProcesarCarpeta(\"C:\\Mi carpeta 2\")\n",
    "else:\n",
    "    # Pendientes de procesar\n",
    "    fProcesarCarpeta(\"C:\\Mi carpeta 3\")\n",
    "    fProcesarCarpeta(\"C:\\Mi carpeta 4\")\n"
   ]
  }
 ],
 "metadata": {
  "kernelspec": {
   "display_name": "Python 3",
   "language": "python",
   "name": "python3"
  },
  "language_info": {
   "codemirror_mode": {
    "name": "ipython",
    "version": 3
   },
   "file_extension": ".py",
   "mimetype": "text/x-python",
   "name": "python",
   "nbconvert_exporter": "python",
   "pygments_lexer": "ipython3",
   "version": "3.10.11"
  }
 },
 "nbformat": 4,
 "nbformat_minor": 2
}
